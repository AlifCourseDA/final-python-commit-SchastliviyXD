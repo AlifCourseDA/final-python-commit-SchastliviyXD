{
 "cells": [
  {
   "cell_type": "code",
   "execution_count": 3,
   "id": "88db44df",
   "metadata": {},
   "outputs": [
    {
     "name": "stdout",
     "output_type": "stream",
     "text": [
      "Uzbekistan: [0, 3]\n",
      "Japan: [1, 4]\n",
      "USA: [2, 5]\n",
      "Kazakhstan: [6]\n",
      "Vietnam: [7]\n"
     ]
    }
   ],
   "source": [
    "# create an empty dictionary and a counter of strings\n",
    "countries = dict()\n",
    "counter = 0\n",
    "# an algorithm is executer until the СТОП is input\n",
    "while (country := input()) != \"СТОП\":\n",
    "    countries[country] = countries.get(country,[]) + [counter]   \n",
    "# we increase the couter by one each time\n",
    "    counter += 1\n",
    "    # print the country name and the line numbers in separate lines\n",
    "for country in countries:\n",
    "    print(f\"{country}: {countries[country]}\")"
   ]
  },
  {
   "cell_type": "code",
   "execution_count": null,
   "id": "6fa0481c",
   "metadata": {},
   "outputs": [],
   "source": []
  }
 ],
 "metadata": {
  "kernelspec": {
   "display_name": "Python 3 (ipykernel)",
   "language": "python",
   "name": "python3"
  },
  "language_info": {
   "codemirror_mode": {
    "name": "ipython",
    "version": 3
   },
   "file_extension": ".py",
   "mimetype": "text/x-python",
   "name": "python",
   "nbconvert_exporter": "python",
   "pygments_lexer": "ipython3",
   "version": "3.12.1"
  }
 },
 "nbformat": 4,
 "nbformat_minor": 5
}
