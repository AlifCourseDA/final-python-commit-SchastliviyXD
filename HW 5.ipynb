{
 "cells": [
  {
   "cell_type": "markdown",
   "metadata": {},
   "source": [
    "# Функциональное приветствие"
   ]
  },
  {
   "cell_type": "code",
   "execution_count": null,
   "metadata": {},
   "outputs": [],
   "source": [
    "def print_hello(name):\n",
    "    print(f\"Hello, {name}!\")"
   ]
  },
  {
   "cell_type": "markdown",
   "metadata": {},
   "source": [
    "# Функциональный НОД"
   ]
  },
  {
   "cell_type": "code",
   "execution_count": null,
   "metadata": {},
   "outputs": [],
   "source": [
    "def gcd(a, b):\n",
    "    while b:\n",
    "        a, b = b, a % b\n",
    "    return a"
   ]
  },
  {
   "cell_type": "markdown",
   "metadata": {},
   "source": [
    "# Длина числа"
   ]
  },
  {
   "cell_type": "code",
   "execution_count": 1,
   "metadata": {},
   "outputs": [
    {
     "name": "stdout",
     "output_type": "stream",
     "text": [
      "result = 5\n"
     ]
    }
   ],
   "source": [
    "def length_num(num):\n",
    "    num = abs(num)\n",
    "    return print(f'result = {len(str(num))}')\n",
    "\n",
    "length_num(12345)"
   ]
  },
  {
   "cell_type": "markdown",
   "metadata": {},
   "source": [
    "# Имя of the month"
   ]
  },
  {
   "cell_type": "code",
   "execution_count": null,
   "metadata": {},
   "outputs": [],
   "source": [
    "def month(month_number, language):\n",
    "    months_ru = [\"Январь\", \"Февраль\", \"Март\", \"Апрель\", \"Май\", \"Июнь\", \"Июль\", \"Август\", \"Сентябрь\", \"Октябрь\", \"Ноябрь\", \"Декабрь\"]\n",
    "    months_en = [\"January\", \"February\", \"March\", \"April\", \"May\", \"June\", \"July\", \"August\", \"September\", \"October\", \"November\", \"December\"]\n",
    "\n",
    "    if language == \"ru\":\n",
    "        return months_ru[month_number - 1]\n",
    "    else:\n",
    "        return months_en[month_number - 1]"
   ]
  },
  {
   "cell_type": "markdown",
   "metadata": {},
   "source": [
    "# Числовая строка"
   ]
  },
  {
   "cell_type": "code",
   "execution_count": null,
   "metadata": {},
   "outputs": [],
   "source": [
    "def split_numbers(numbers):\n",
    "    str_nums = numbers.split()\n",
    "    nums = tuple(map(int, str_nums))\n",
    "    return nums"
   ]
  },
  {
   "cell_type": "markdown",
   "metadata": {},
   "source": [
    "# Модернизация системы вывода\n"
   ]
  },
  {
   "cell_type": "code",
   "execution_count": 3,
   "metadata": {},
   "outputs": [
    {
     "name": "stdout",
     "output_type": "stream",
     "text": [
      "Nice\n",
      "Temur\n"
     ]
    }
   ],
   "source": [
    "text_list = set()\n",
    "\n",
    "\n",
    "def modern_print(text):\n",
    "    global text_list\n",
    "    if text not in text_list:\n",
    "        print(text)\n",
    "        text_list.add(text)"
   ]
  },
  {
   "cell_type": "markdown",
   "metadata": {},
   "source": [
    "# Шахматный «обед»"
   ]
  },
  {
   "cell_type": "code",
   "execution_count": null,
   "metadata": {},
   "outputs": [],
   "source": [
    "def eats(horse, another):\n",
    "    x_horse, y_horse = horse\n",
    "    x_another, y_another = another\n",
    "    x = abs(x_horse - x_another)\n",
    "    y = abs(y_horse - y_another)\n",
    "    return (x == 1 and y == 2) or (x == 2 and y == 1)"
   ]
  },
  {
   "cell_type": "markdown",
   "metadata": {},
   "source": [
    "# А роза упала на лапу Азора 7.0"
   ]
  },
  {
   "cell_type": "code",
   "execution_count": null,
   "metadata": {},
   "outputs": [],
   "source": [
    "def is_palindrome(value):\n",
    "    value_str = str(value)\n",
    "    return value_str == value_str[::-1]"
   ]
  },
  {
   "cell_type": "markdown",
   "metadata": {},
   "source": [
    "# Простая задача 5.0"
   ]
  },
  {
   "cell_type": "code",
   "execution_count": 6,
   "metadata": {},
   "outputs": [
    {
     "name": "stdout",
     "output_type": "stream",
     "text": [
      "True\n"
     ]
    }
   ],
   "source": [
    "def is_prime(n):\n",
    "    if n < 2:\n",
    "        return False\n",
    "    for i in range(2, int(n ** 0.5) + 1):\n",
    "        if n % i == 0:\n",
    "            return False\n",
    "    return True\n",
    "print(is_prime(31))"
   ]
  },
  {
   "cell_type": "markdown",
   "metadata": {},
   "source": [
    "# Слияние"
   ]
  },
  {
   "cell_type": "code",
   "execution_count": null,
   "metadata": {},
   "outputs": [],
   "source": [
    "def merge(tuple1, tuple2):\n",
    "    result = ()\n",
    "    i, j = 0, 0\n",
    "\n",
    "    while i < len(tuple1) and j < len(tuple2):\n",
    "        if tuple1[i] < tuple2[j]:\n",
    "            result += (tuple1[i],)\n",
    "            i += 1\n",
    "        else:\n",
    "            result += (tuple2[j],)\n",
    "            j += 1\n",
    "\n",
    "    result += tuple1[i:]\n",
    "    result += tuple2[j:]\n",
    "\n",
    "    return result"
   ]
  },
  {
   "cell_type": "markdown",
   "metadata": {},
   "source": [
    "# Позиционные и именованные аргументы."
   ]
  },
  {
   "cell_type": "markdown",
   "metadata": {},
   "source": [
    "# Генератор списков"
   ]
  },
  {
   "cell_type": "code",
   "execution_count": null,
   "metadata": {},
   "outputs": [],
   "source": [
    "def make_list(length, value = 0):\n",
    "    return [value] * length"
   ]
  },
  {
   "cell_type": "markdown",
   "metadata": {},
   "source": [
    "# Генератор матриц"
   ]
  },
  {
   "cell_type": "code",
   "execution_count": null,
   "metadata": {},
   "outputs": [],
   "source": [
    "def make_matrix(size, value=0):\n",
    "    if isinstance(size, tuple):\n",
    "        return [[value for _ in range(size[0])] for _ in range(size[1])]\n",
    "    else:\n",
    "        return [[value for _ in range(size)] for _ in range(size)]"
   ]
  },
  {
   "cell_type": "markdown",
   "metadata": {},
   "source": [
    "# Функциональный нод 2.0"
   ]
  },
  {
   "cell_type": "code",
   "execution_count": 8,
   "metadata": {},
   "outputs": [
    {
     "name": "stdout",
     "output_type": "stream",
     "text": [
      "12\n"
     ]
    }
   ],
   "source": [
    "def gcd_primary(a, b):\n",
    "    while b:\n",
    "        a, b = b, a % b\n",
    "    return a\n",
    "\n",
    "\n",
    "def gcd(*numbers):\n",
    "    result = numbers[0]\n",
    "    for num in numbers[1:]:\n",
    "        result = gcd_primary(result, num)\n",
    "    return result\n",
    "\n",
    "print(gcd(36, 48, 156, 100500))"
   ]
  },
  {
   "cell_type": "markdown",
   "metadata": {},
   "source": [
    "# Имя of the month 2.0"
   ]
  },
  {
   "cell_type": "code",
   "execution_count": null,
   "metadata": {},
   "outputs": [],
   "source": [
    "def month(month_number, language=\"ru\"):\n",
    "    months_ru = [\"январь\", \"февраль\", \"март\", \"апрель\", \"май\", \"июнь\", \"июль\", \"август\", \"сентябрь\", \"октябрь\", \"ноябрь\", \"декабрь\"]\n",
    "    months_en = [\"january\", \"february\", \"march\", \"april\", \"may\", \"june\", \"july\", \"august\", \"september\", \"october\", \"november\", \"december\"]\n",
    "\n",
    "    if language.lower() == \"ru\":\n",
    "        return months_ru[month_number - 1].capitalize()\n",
    "    elif language.lower() == \"en\":\n",
    "        return months_en[month_number - 1].capitalize()\n",
    "    else:\n",
    "        raise ValueError(\"Unsupported language. Use 'ru' or 'en'.\")"
   ]
  },
  {
   "cell_type": "markdown",
   "metadata": {},
   "source": [
    "# Подготовка данных"
   ]
  },
  {
   "cell_type": "code",
   "execution_count": 8,
   "metadata": {},
   "outputs": [
    {
     "name": "stdout",
     "output_type": "stream",
     "text": [
      "1 2 3\n",
      "\n"
     ]
    }
   ],
   "source": [
    "def to_string(*values, sep=' ', end='\\n'):\n",
    "    values = list(map(str, values))\n",
    "    return sep.join(values) + end\n",
    "\n",
    "print(to_string(1, 2, 3))"
   ]
  },
  {
   "cell_type": "markdown",
   "metadata": {},
   "source": [
    "# Кофейня"
   ]
  },
  {
   "cell_type": "code",
   "execution_count": 15,
   "metadata": {},
   "outputs": [
    {
     "name": "stdout",
     "output_type": "stream",
     "text": [
      "Эспрессо\n",
      "К сожалению, не можем предложить Вам напиток\n"
     ]
    }
   ],
   "source": [
    "def order(*preferences):\n",
    "    for drink in preferences:\n",
    "        if drink == 'Эспрессо' and in_stock['coffee'] >= 1:\n",
    "            in_stock['coffee'] -= 1\n",
    "            return \"Эспрессо\"\n",
    "        elif drink == 'Капучиино' and in_stock['coffee'] >= 1 and in_stock['milk'] >= 3:\n",
    "            in_stock['coffee'] -= 1\n",
    "            in_stock['milk'] -= 3\n",
    "            return \"Капучиино\"\n",
    "        elif drink == 'Макиато' and in_stock['coffee'] >= 2 and in_stock['milk'] >= 1:\n",
    "            in_stock['coffee'] -= 2\n",
    "            in_stock['milk'] -= 1\n",
    "            return \"Макиато\"\n",
    "        elif drink == 'Кофе по-венски' and in_stock['coffee'] >= 1 and in_stock['cream'] >= 2:\n",
    "            in_stock['coffee'] -= 1\n",
    "            in_stock['cream'] -= 2\n",
    "            return \"Кофе по-венски\"\n",
    "        elif drink == 'Латте Макиато' and in_stock['coffee'] >= 1 and in_stock['milk'] >= 2 and in_stock['cream'] >= 1:\n",
    "            in_stock['coffee'] -= 1\n",
    "            in_stock['milk'] -= 2\n",
    "            in_stock['cream'] -= 1\n",
    "            return \"Латте Макиато\"\n",
    "        elif drink == 'Кон Панна' and in_stock['coffee'] >= 1 and in_stock['cream'] >= 1:\n",
    "            in_stock['coffee'] -= 1\n",
    "            in_stock['cream'] -= 1\n",
    "            return \"Кон Панна\"\n",
    "    \n",
    "    return \"К сожалению, не можем предложить Вам напиток\"\n",
    "\n",
    "in_stock = {\"coffee\": 1, \"milk\": 2, \"cream\": 3}\n",
    "print(order(\"Эспрессо\", \"Капучино\", \"Макиато\", \"Кофе по-венски\", \"Латте Макиато\", \"Кон Панна\"))\n",
    "print(order(\"Эспрессо\", \"Капучино\", \"Макиато\", \"Кофе по-венски\", \"Латте Макиато\", \"Кон Панна\"))"
   ]
  },
  {
   "cell_type": "markdown",
   "metadata": {},
   "source": [
    "# В эфире рубрика «Эксперименты»"
   ]
  },
  {
   "cell_type": "code",
   "execution_count": null,
   "metadata": {},
   "outputs": [],
   "source": [
    "odd_index_nums = [] \n",
    "even_index_nums = []\n",
    "\n",
    "\n",
    "def enter_results(*numbers):\n",
    "    for i, num in enumerate(numbers):\n",
    "        if i == 0 or i % 2 == 0:\n",
    "            even_index_nums.append(num)\n",
    "        elif i % 2 == 1:\n",
    "            odd_index_nums.append(num)\n",
    "\n",
    "\n",
    "def get_sum():\n",
    "    return (round(sum(even_index_nums), 2), round(sum(odd_index_nums), 2))\n",
    "\n",
    "\n",
    "def get_average():\n",
    "    return (round(sum(even_index_nums) / len(even_index_nums), 2), round(sum(odd_index_nums) / len(odd_index_nums), 2))"
   ]
  },
  {
   "cell_type": "markdown",
   "metadata": {},
   "source": [
    "# Длинная сортировка"
   ]
  },
  {
   "cell_type": "code",
   "execution_count": null,
   "metadata": {},
   "outputs": [],
   "source": [
    "key = lambda x: (len(x), x.lower())"
   ]
  },
  {
   "cell_type": "markdown",
   "metadata": {},
   "source": [
    "# Чётная фильтрация"
   ]
  },
  {
   "cell_type": "code",
   "execution_count": null,
   "metadata": {},
   "outputs": [],
   "source": [
    "lambda num: sum(int(digit) for digit in str(num)) % 2 == 0"
   ]
  },
  {
   "cell_type": "markdown",
   "metadata": {},
   "source": [
    "# Рекурсия. Декораторы. Генераторы"
   ]
  },
  {
   "cell_type": "markdown",
   "metadata": {},
   "source": [
    "# Рекурсивный сумматор"
   ]
  },
  {
   "cell_type": "code",
   "execution_count": null,
   "metadata": {},
   "outputs": [],
   "source": [
    "def recursive_sum(*args):\n",
    "    if not args:\n",
    "        return 0\n",
    "    else:\n",
    "        return args[0] + recursive_sum(*args[1:])"
   ]
  },
  {
   "cell_type": "markdown",
   "metadata": {},
   "source": [
    "# Рекурсивный сумматор цифр"
   ]
  },
  {
   "cell_type": "code",
   "execution_count": null,
   "metadata": {},
   "outputs": [],
   "source": [
    "def recursive_digit_sum(num):\n",
    "    if not num:\n",
    "        return 0\n",
    "    return int(str(num)[0]) + recursive_digit_sum(str(num)[1:])"
   ]
  },
  {
   "cell_type": "markdown",
   "metadata": {},
   "source": [
    "# Многочлен N-ой степени"
   ]
  },
  {
   "cell_type": "code",
   "execution_count": null,
   "metadata": {},
   "outputs": [],
   "source": [
    "def make_equation(*args):\n",
    "    if not args:\n",
    "        return \"\"\n",
    "    elif len(args) == 1:\n",
    "        return str(args[0])\n",
    "    else:\n",
    "        return f'({make_equation(*args[:-1])}) * x + {args[-1]}'"
   ]
  },
  {
   "cell_type": "markdown",
   "metadata": {},
   "source": [
    "# Декор результата"
   ]
  },
  {
   "cell_type": "code",
   "execution_count": null,
   "metadata": {},
   "outputs": [],
   "source": [
    "def answer(func):\n",
    "    def wrapper(*args, **kwargs):\n",
    "        result = func(*args, **kwargs)\n",
    "        return f\"Результат функции: {result}\"\n",
    "    return wrapper"
   ]
  },
  {
   "cell_type": "markdown",
   "metadata": {},
   "source": [
    "# Накопление результата"
   ]
  },
  {
   "cell_type": "code",
   "execution_count": null,
   "metadata": {},
   "outputs": [],
   "source": [
    "def result_accumulator(func):\n",
    "    answers = []\n",
    "\n",
    "    def wrapper(*args, method='accumulate'):\n",
    "        nonlocal answers \n",
    "        result = func(*args)\n",
    "        answers.append(result)\n",
    "        if method == 'accumulate':\n",
    "            pass\n",
    "        elif method == 'drop':\n",
    "            accumulated_results = answers.copy()\n",
    "            answers = [] \n",
    "            return accumulated_results\n",
    "\n",
    "    return wrapper"
   ]
  },
  {
   "cell_type": "markdown",
   "metadata": {},
   "source": [
    "# Сортировка слиянием"
   ]
  },
  {
   "cell_type": "code",
   "execution_count": null,
   "metadata": {},
   "outputs": [],
   "source": [
    "def merge_sort(arr):\n",
    "    if len(arr) <= 1:\n",
    "        return arr\n",
    "\n",
    "    mid = len(arr) // 2\n",
    "    left_half = arr[:mid]\n",
    "    right_half = arr[mid:]\n",
    "    \n",
    "    left_half = merge_sort(left_half)\n",
    "    right_half = merge_sort(right_half)\n",
    "\n",
    "    return merge(left_half, right_half)"
   ]
  },
  {
   "cell_type": "markdown",
   "metadata": {},
   "source": [
    "# Сортировка слиянием"
   ]
  },
  {
   "cell_type": "code",
   "execution_count": null,
   "metadata": {},
   "outputs": [],
   "source": [
    "def merge_sort(arr):\n",
    "    if len(arr) <= 1:\n",
    "        return arr\n",
    "\n",
    "    mid = len(arr) // 2\n",
    "    left_half = arr[:mid]\n",
    "    right_half = arr[mid:]\n",
    "    \n",
    "    left_half = merge_sort(left_half)\n",
    "    right_half = merge_sort(right_half)\n",
    "\n",
    "    return merge(left_half, right_half)\n",
    "\n",
    "\n",
    "def merge(arr1, arr2):\n",
    "    result = []\n",
    "    i, j = 0, 0\n",
    "    while i < len(arr1) and j < len(arr2):\n",
    "        if arr1[i] < arr2[j]:\n",
    "            result.append(arr1[i])\n",
    "            i += 1\n",
    "        else:\n",
    "            result.append(arr2[j])\n",
    "            j += 1\n",
    "    if i < len(arr1):\n",
    "        result.extend(arr1[i:])\n",
    "    if j < len(arr2):\n",
    "        result.extend(arr2[j:])\n",
    "\n",
    "    return result"
   ]
  },
  {
   "cell_type": "markdown",
   "metadata": {},
   "source": [
    "# Однотипность не порок"
   ]
  },
  {
   "cell_type": "code",
   "execution_count": null,
   "metadata": {},
   "outputs": [],
   "source": [
    "def same_type(func):\n",
    "    def wrapper(*args):\n",
    "        for i in range(len(args) - 1):\n",
    "            if not isinstance(args[i], type(args[i + 1])):\n",
    "                return \"Обнаружены различные типы данных\\nFail\"\n",
    "        result = func(*args)\n",
    "        return result\n",
    "\n",
    "    return wrapper"
   ]
  },
  {
   "cell_type": "markdown",
   "metadata": {},
   "source": [
    "# Генератор Фибоначчи"
   ]
  },
  {
   "cell_type": "code",
   "execution_count": null,
   "metadata": {},
   "outputs": [],
   "source": [
    "def fibonacci(count):\n",
    "    a, b = 0, 1\n",
    "    for _ in range(count):\n",
    "        yield a\n",
    "        a, b = b, a + b"
   ]
  },
  {
   "cell_type": "markdown",
   "metadata": {},
   "source": [
    "# Циклический генератор"
   ]
  },
  {
   "cell_type": "code",
   "execution_count": null,
   "metadata": {},
   "outputs": [],
   "source": [
    "def cycle(iterable):\n",
    "    index = 0\n",
    "    length = len(iterable)\n",
    "    while True:\n",
    "        yield iterable[index]\n",
    "        index = (index + 1) % length"
   ]
  },
  {
   "cell_type": "markdown",
   "metadata": {},
   "source": [
    "# \"Выпрямление\" списка"
   ]
  },
  {
   "cell_type": "code",
   "execution_count": null,
   "metadata": {},
   "outputs": [],
   "source": [
    "def make_linear(lst): \n",
    "    result = []\n",
    "    for item in lst: \n",
    "        if isinstance(item, list):\n",
    "            result.extend(make_linear(item))\n",
    "        else:\n",
    "            result.append(item)\n",
    "    return result"
   ]
  }
 ],
 "metadata": {
  "kernelspec": {
   "display_name": "Python 3",
   "language": "python",
   "name": "python3"
  },
  "language_info": {
   "codemirror_mode": {
    "name": "ipython",
    "version": 3
   },
   "file_extension": ".py",
   "mimetype": "text/x-python",
   "name": "python",
   "nbconvert_exporter": "python",
   "pygments_lexer": "ipython3",
   "version": "3.12.1"
  }
 },
 "nbformat": 4,
 "nbformat_minor": 2
}
